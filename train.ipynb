{
 "cells": [
  {
   "cell_type": "markdown",
   "metadata": {},
   "source": [
    "# Dependencies"
   ]
  },
  {
   "cell_type": "code",
   "execution_count": 1,
   "metadata": {},
   "outputs": [
    {
     "name": "stderr",
     "output_type": "stream",
     "text": [
      "2024-06-01 19:46:15.462176: I tensorflow/core/util/port.cc:113] oneDNN custom operations are on. You may see slightly different numerical results due to floating-point round-off errors from different computation orders. To turn them off, set the environment variable `TF_ENABLE_ONEDNN_OPTS=0`.\n",
      "2024-06-01 19:46:15.543082: I tensorflow/core/platform/cpu_feature_guard.cc:210] This TensorFlow binary is optimized to use available CPU instructions in performance-critical operations.\n",
      "To enable the following instructions: AVX2 AVX512F AVX512_VNNI FMA, in other operations, rebuild TensorFlow with the appropriate compiler flags.\n",
      "2024-06-01 19:46:16.333559: W tensorflow/compiler/tf2tensorrt/utils/py_utils.cc:38] TF-TRT Warning: Could not find TensorRT\n"
     ]
    },
    {
     "name": "stdout",
     "output_type": "stream",
     "text": [
      "\n",
      "TensorFlow version: 2.16.1\n",
      "Keras version: 3.1.1\n",
      "GPU is available\n",
      "\n"
     ]
    },
    {
     "name": "stderr",
     "output_type": "stream",
     "text": [
      "2024-06-01 19:46:18.277984: I external/local_xla/xla/stream_executor/cuda/cuda_executor.cc:984] could not open file to read NUMA node: /sys/bus/pci/devices/0000:2b:00.0/numa_node\n",
      "Your kernel may have been built without NUMA support.\n",
      "2024-06-01 19:46:18.610307: I external/local_xla/xla/stream_executor/cuda/cuda_executor.cc:984] could not open file to read NUMA node: /sys/bus/pci/devices/0000:2b:00.0/numa_node\n",
      "Your kernel may have been built without NUMA support.\n",
      "2024-06-01 19:46:18.610444: I external/local_xla/xla/stream_executor/cuda/cuda_executor.cc:984] could not open file to read NUMA node: /sys/bus/pci/devices/0000:2b:00.0/numa_node\n",
      "Your kernel may have been built without NUMA support.\n"
     ]
    }
   ],
   "source": [
    "import matplotlib.pyplot as plt\n",
    "import tensorflow as tf\n",
    "import keras\n",
    "import os\n",
    "import random\n",
    "\n",
    "print()\n",
    "print(f\"TensorFlow version: {tf.__version__}\")\n",
    "print(f\"Keras version: {keras.__version__}\")\n",
    "print(f\"GPU is {'available' if tf.config.list_physical_devices('GPU') else 'NOT AVAILABLE'}\")\n",
    "print()\n",
    "\n",
    "%matplotlib inline"
   ]
  },
  {
   "cell_type": "markdown",
   "metadata": {},
   "source": [
    "# Base model"
   ]
  },
  {
   "cell_type": "code",
   "execution_count": 2,
   "metadata": {},
   "outputs": [],
   "source": [
    "def resnet18():\n",
    "\n",
    "    inputs = keras.Input(shape=(64, 64, 3))\n",
    "\n",
    "    # conv1\n",
    "    x = keras.layers.Conv2D(filters=64, kernel_size=7, strides=(2, 2), padding=\"same\")(inputs)\n",
    "\n",
    "    # conv2\n",
    "    x = keras.layers.MaxPooling2D(pool_size=(3, 3), strides=(2, 2))(x)\n",
    "\n",
    "    residual = x\n",
    "    x = keras.layers.Conv2D(filters=64, kernel_size=3, padding=\"same\")(x)\n",
    "    x = keras.layers.BatchNormalization()(x)\n",
    "    x = keras.layers.Activation(\"relu\")(x)\n",
    "    x = keras.layers.Conv2D(filters=64, kernel_size=3, padding=\"same\")(x)\n",
    "    x = keras.layers.BatchNormalization()(x)\n",
    "    x = keras.layers.Activation(\"relu\")(x)\n",
    "    x = residual + x\n",
    "\n",
    "    residual = x\n",
    "    x = keras.layers.Conv2D(filters=64, kernel_size=3, padding=\"same\")(x)\n",
    "    x = keras.layers.BatchNormalization()(x)\n",
    "    x = keras.layers.Activation(\"relu\")(x)\n",
    "    x = keras.layers.Conv2D(filters=64, kernel_size=3, padding=\"same\")(x)\n",
    "    x = keras.layers.BatchNormalization()(x)\n",
    "    x = keras.layers.Activation(\"relu\")(x)\n",
    "    x = residual + x\n",
    "\n",
    "    # conv3\n",
    "    residual = keras.layers.Conv2D(filters=128, kernel_size=1, strides=(2, 2))(x)\n",
    "    residual = keras.layers.BatchNormalization()(residual)\n",
    "    x = keras.layers.Conv2D(filters=128, kernel_size=3, strides=(2, 2), padding=\"same\")(x)\n",
    "    x = keras.layers.BatchNormalization()(x)\n",
    "    x = keras.layers.Activation(\"relu\")(x)\n",
    "    x = keras.layers.Conv2D(filters=128, kernel_size=3, padding=\"same\")(x)\n",
    "    x = keras.layers.BatchNormalization()(x)\n",
    "    x = keras.layers.Activation(\"relu\")(x)\n",
    "    x = residual + x\n",
    "\n",
    "    residual = x\n",
    "    x = keras.layers.Conv2D(filters=128, kernel_size=3, padding=\"same\")(x)\n",
    "    x = keras.layers.BatchNormalization()(x)\n",
    "    x = keras.layers.Activation(\"relu\")(x)\n",
    "    x = keras.layers.Conv2D(filters=128, kernel_size=3, padding=\"same\")(x)\n",
    "    x = keras.layers.BatchNormalization()(x)\n",
    "    x = keras.layers.Activation(\"relu\")(x)\n",
    "    x = residual + x\n",
    "\n",
    "    # conv4\n",
    "    residual = keras.layers.Conv2D(filters=256, kernel_size=1, strides=(2, 2))(x)\n",
    "    residual = keras.layers.BatchNormalization()(residual)\n",
    "    x = keras.layers.Conv2D(filters=256, kernel_size=3, strides=(2, 2), padding=\"same\")(x)\n",
    "    x = keras.layers.BatchNormalization()(x)\n",
    "    x = keras.layers.Activation(\"relu\")(x)\n",
    "    x = keras.layers.Conv2D(filters=256, kernel_size=3, padding=\"same\")(x)\n",
    "    x = keras.layers.BatchNormalization()(x)\n",
    "    x = keras.layers.Activation(\"relu\")(x)\n",
    "    x = residual + x\n",
    "\n",
    "    residual = x\n",
    "    x = keras.layers.Conv2D(filters=256, kernel_size=3, padding=\"same\")(x)\n",
    "    x = keras.layers.BatchNormalization()(x)\n",
    "    x = keras.layers.Activation(\"relu\")(x)\n",
    "    x = keras.layers.Conv2D(filters=256, kernel_size=3, padding=\"same\")(x)\n",
    "    x = keras.layers.BatchNormalization()(x)\n",
    "    x = keras.layers.Activation(\"relu\")(x)\n",
    "    x = residual + x\n",
    "\n",
    "    # conv5\n",
    "    residual = keras.layers.Conv2D(filters=512, kernel_size=1, strides=(2, 2))(x)\n",
    "    residual = keras.layers.BatchNormalization()(residual)\n",
    "    x = keras.layers.Conv2D(filters=512, kernel_size=3, strides=(2, 2), padding=\"same\")(x)\n",
    "    x = keras.layers.BatchNormalization()(x)\n",
    "    x = keras.layers.Activation(\"relu\")(x)\n",
    "    x = keras.layers.Conv2D(filters=512, kernel_size=3, padding=\"same\")(x)\n",
    "    x = keras.layers.BatchNormalization()(x)\n",
    "    x = keras.layers.Activation(\"relu\")(x)\n",
    "    x = residual + x\n",
    "\n",
    "    residual = x\n",
    "    x = keras.layers.Conv2D(filters=512, kernel_size=3, padding=\"same\")(x)\n",
    "    x = keras.layers.BatchNormalization()(x)\n",
    "    x = keras.layers.Activation(\"relu\")(x)\n",
    "    x = keras.layers.Conv2D(filters=512, kernel_size=3, padding=\"same\")(x)\n",
    "    x = keras.layers.BatchNormalization()(x)\n",
    "    x = keras.layers.Activation(\"relu\")(x)\n",
    "    x = residual + x\n",
    "\n",
    "    x = keras.layers.GlobalAveragePooling2D()(x)\n",
    "    outputs = keras.layers.Dense(128)(x)\n",
    "\n",
    "    return keras.Model(inputs=inputs, outputs=outputs)"
   ]
  },
  {
   "cell_type": "markdown",
   "metadata": {},
   "source": [
    "# Method 1: Metric learning"
   ]
  },
  {
   "cell_type": "markdown",
   "metadata": {},
   "source": [
    "## Data"
   ]
  },
  {
   "cell_type": "code",
   "execution_count": 31,
   "metadata": {},
   "outputs": [],
   "source": [
    "class TripletFace(keras.utils.Sequence):\n",
    "\n",
    "    def __init__(self, image_dir, batch_size=4, image_size=(64, 64), seed=42):\n",
    "        self.image_dir = image_dir\n",
    "        self.batch_size = batch_size\n",
    "        self.image_size = image_size\n",
    "\n",
    "        self.imgs_path = {\n",
    "            person: os.listdir(os.path.join(image_dir, person)) for person in os.listdir(image_dir)\n",
    "        }\n",
    "        self.random = random.Random(seed)\n",
    "\n",
    "        self.__produce_triplet_batches()\n",
    "\n",
    "    def __produce_triplet_batches(self):\n",
    "        self.triplets = []\n",
    "        temp = []\n",
    "\n",
    "        for person in self.imgs_path:\n",
    "            anchor_paths = self.random.sample(self.imgs_path[person], len(self.imgs_path[person]) // 2)\n",
    "            positive_paths = {*self.imgs_path[person]} - {*anchor_paths}\n",
    "            for anchor, positive in zip(anchor_paths, positive_paths):\n",
    "                anchor_img = os.path.join(self.image_dir, person, anchor)\n",
    "                positive_img = os.path.join(self.image_dir, person, positive)\n",
    "                negative_img = os.path.join(\n",
    "                    self.image_dir,\n",
    "                    negative_person := self.random.choice( list( {*self.imgs_path.keys()} - {person} ) ),\n",
    "                    self.random.choice(self.imgs_path[negative_person])\n",
    "                )\n",
    "                temp.append((anchor_img, positive_img, negative_img))\n",
    "\n",
    "        self.random.shuffle(temp)\n",
    "\n",
    "        for i in range(0, len(temp), self.batch_size):\n",
    "            self.triplets.append( temp[i:i + self.batch_size] )\n",
    "\n",
    "    def __preprocess_image(self, image_path):\n",
    "        image = tf.io.read_file(image_path)\n",
    "        image = tf.image.decode_jpeg(image, channels=3)\n",
    "        image = tf.image.resize(image, self.image_size)\n",
    "        image = keras.applications.resnet.preprocess_input(image)\n",
    "        return image\n",
    "\n",
    "    def on_epoch_end(self):\n",
    "        self.__produce_triplet_batches()\n",
    "\n",
    "    def __len__(self):\n",
    "        return len(self.triplets)\n",
    "\n",
    "    def __getitem__(self, idx):\n",
    "        batch = self.triplets[idx]\n",
    "        anchor_paths, positive_paths, negative_paths = zip(*batch)\n",
    "        return (\n",
    "            tf.stack([self.__preprocess_image(path) for path in anchor_paths]),\n",
    "            tf.stack([self.__preprocess_image(path) for path in positive_paths]),\n",
    "            tf.stack([self.__preprocess_image(path) for path in negative_paths]),\n",
    "        )"
   ]
  },
  {
   "cell_type": "markdown",
   "metadata": {},
   "source": [
    "Making dataset"
   ]
  },
  {
   "cell_type": "code",
   "execution_count": 32,
   "metadata": {},
   "outputs": [],
   "source": [
    "triplets_dataset = TripletFace(\"data/classification_data/train_data\")"
   ]
  },
  {
   "cell_type": "code",
   "execution_count": null,
   "metadata": {},
   "outputs": [],
   "source": [
    "val_triplets_dataset = TripletFace(\"data/classification_data/val_data\")"
   ]
  },
  {
   "cell_type": "markdown",
   "metadata": {},
   "source": [
    "Visualizing dataset"
   ]
  },
  {
   "cell_type": "code",
   "execution_count": null,
   "metadata": {},
   "outputs": [],
   "source": [
    "img_set = triplets_dataset.triplets[0][0]\n",
    "print(img_set)\n",
    "anchor, positive, negative = img_set\n",
    "fig, axes = plt.subplots(1, 3)\n",
    "axes[0].imshow(plt.imread(anchor))\n",
    "axes[1].imshow(plt.imread(positive))\n",
    "axes[2].imshow(plt.imread(negative))\n",
    "plt.show()"
   ]
  },
  {
   "cell_type": "markdown",
   "metadata": {},
   "source": [
    "## Siamese Network Definition"
   ]
  },
  {
   "cell_type": "code",
   "execution_count": 3,
   "metadata": {},
   "outputs": [],
   "source": [
    "def triplet_head(embedding):\n",
    "    anchor_input = keras.Input(name=\"anchor\", shape=(64, 64, 3))\n",
    "    positive_input = keras.Input(name=\"positive\", shape=(64, 64, 3))\n",
    "    negative_input = keras.Input(name=\"negative\", shape=(64, 64, 3))\n",
    "\n",
    "    anchor_embedding = embedding(anchor_input)\n",
    "    positive_embedding = embedding(positive_input)\n",
    "    negative_embedding = embedding(negative_input)\n",
    "\n",
    "    return keras.Model(inputs=[anchor_input, positive_input, negative_input], outputs=[anchor_embedding, positive_embedding, negative_embedding])"
   ]
  },
  {
   "cell_type": "code",
   "execution_count": 4,
   "metadata": {},
   "outputs": [],
   "source": [
    "class SiameseModel(keras.Model):\n",
    "\n",
    "    def __init__(self, embedding, loss=\"euclidean\", margin=0.5):\n",
    "        super().__init__()\n",
    "        assert loss == \"euclidean\" or loss == \"cosine\", \"loss must be either 'euclidean' or 'cosine'\"\n",
    "        self.siamese = triplet_head(embedding)\n",
    "        self.loss = loss\n",
    "        self.margin = margin\n",
    "        self.loss_tracker = keras.metrics.Mean(name=\"loss\")\n",
    "        self.auc_metric = keras.metrics.AUC(name=\"auc\")\n",
    "\n",
    "    def __distance(self, anchor, other):\n",
    "        if self.loss == \"euclidean\":\n",
    "            return keras.ops.sum(keras.ops.square(anchor - other), axis=-1)\n",
    "\n",
    "        # keras loss cosine_similarity returns the negative of cosine similarity (-1 mean similar, 1 mean different)\n",
    "        # we add 1 to make it between 0 and 2 (0 mean similar, 2 mean different)\n",
    "        return 1 + keras.losses.cosine_similarity(anchor, other)\n",
    "\n",
    "    def __triplet_loss(self, ap_distance, an_distance):\n",
    "        return keras.ops.maximum(ap_distance - an_distance + self.margin, 0)\n",
    "\n",
    "    def call(self, inputs):\n",
    "        return self.siamese(inputs)\n",
    "\n",
    "    def train_step(self, data):\n",
    "        with tf.GradientTape() as tape:\n",
    "            anchor, positive, negative = self.siamese(data)\n",
    "            ap_distance = self.__distance(anchor, positive)\n",
    "            an_distance = self.__distance(anchor, negative)\n",
    "            loss = self.__triplet_loss(ap_distance, an_distance)\n",
    "\n",
    "        gradients = tape.gradient(loss, self.siamese.trainable_variables)\n",
    "\n",
    "        self.optimizer.apply_gradients(zip(gradients, self.siamese.trainable_variables))\n",
    "\n",
    "        self.loss_tracker.update_state(loss)\n",
    "        self.auc_metric.update_state(tf.ones_like(an_distance), an_distance)\n",
    "        self.auc_metric.update_state(tf.zeros_like(ap_distance), ap_distance)\n",
    "\n",
    "        return {\"loss\": self.loss_tracker.result(), \"auc\": self.auc_metric.result()}\n",
    "\n",
    "    def test_step(self, data):\n",
    "        anchor, positive, negative = self.siamese(data)\n",
    "        ap_distance = self.__distance(anchor, positive)\n",
    "        an_distance = self.__distance(anchor, negative)\n",
    "        loss = self.__triplet_loss(ap_distance, an_distance)\n",
    "\n",
    "        self.loss_tracker.update_state(loss)\n",
    "        self.auc_metric.update_state(tf.ones_like(an_distance), an_distance)\n",
    "        self.auc_metric.update_state(tf.zeros_like(ap_distance), ap_distance)\n",
    "\n",
    "        return {\"loss\": self.loss_tracker.result(), \"auc\": self.auc_metric.result()}\n",
    "\n",
    "    @property\n",
    "    def metrics(self):\n",
    "        return [self.loss_tracker, self.auc_metric]"
   ]
  },
  {
   "cell_type": "markdown",
   "metadata": {},
   "source": [
    "## A/ Train with Euclidean loss"
   ]
  },
  {
   "cell_type": "markdown",
   "metadata": {},
   "source": [
    "### Model Initialization"
   ]
  },
  {
   "cell_type": "code",
   "execution_count": 6,
   "metadata": {},
   "outputs": [],
   "source": [
    "embedding_euclidean = resnet18()"
   ]
  },
  {
   "cell_type": "code",
   "execution_count": 7,
   "metadata": {},
   "outputs": [],
   "source": [
    "siamese_euclidean = SiameseModel(embedding_euclidean)"
   ]
  },
  {
   "cell_type": "markdown",
   "metadata": {},
   "source": [
    "### Model Compilation and Training"
   ]
  },
  {
   "cell_type": "code",
   "execution_count": 8,
   "metadata": {},
   "outputs": [],
   "source": [
    "siamese_euclidean.compile(optimizer=keras.optimizers.Adam(0.0001))"
   ]
  },
  {
   "cell_type": "code",
   "execution_count": null,
   "metadata": {},
   "outputs": [],
   "source": [
    "siamese_euclidean_history = siamese_euclidean.fit(\n",
    "    triplets_dataset,\n",
    "    validation_data=val_triplets_dataset,\n",
    "    epochs=5,\n",
    "    callbacks=[\n",
    "        keras.callbacks.ModelCheckpoint(\"model_siamese_euclidean.weights.h5\", save_best_only=True, save_weights_only=True)\n",
    "    ]\n",
    ")"
   ]
  },
  {
   "cell_type": "markdown",
   "metadata": {},
   "source": [
    "## B/ Train with Cosine Distance loss"
   ]
  },
  {
   "cell_type": "markdown",
   "metadata": {},
   "source": [
    "### Model Initialization"
   ]
  },
  {
   "cell_type": "code",
   "execution_count": 5,
   "metadata": {},
   "outputs": [
    {
     "name": "stderr",
     "output_type": "stream",
     "text": [
      "2024-06-01 19:46:31.257677: I external/local_xla/xla/stream_executor/cuda/cuda_executor.cc:984] could not open file to read NUMA node: /sys/bus/pci/devices/0000:2b:00.0/numa_node\n",
      "Your kernel may have been built without NUMA support.\n",
      "2024-06-01 19:46:31.257882: I external/local_xla/xla/stream_executor/cuda/cuda_executor.cc:984] could not open file to read NUMA node: /sys/bus/pci/devices/0000:2b:00.0/numa_node\n",
      "Your kernel may have been built without NUMA support.\n",
      "2024-06-01 19:46:31.257909: I external/local_xla/xla/stream_executor/cuda/cuda_executor.cc:984] could not open file to read NUMA node: /sys/bus/pci/devices/0000:2b:00.0/numa_node\n",
      "Your kernel may have been built without NUMA support.\n",
      "2024-06-01 19:46:32.241408: I external/local_xla/xla/stream_executor/cuda/cuda_executor.cc:984] could not open file to read NUMA node: /sys/bus/pci/devices/0000:2b:00.0/numa_node\n",
      "Your kernel may have been built without NUMA support.\n",
      "2024-06-01 19:46:32.242043: I external/local_xla/xla/stream_executor/cuda/cuda_executor.cc:984] could not open file to read NUMA node: /sys/bus/pci/devices/0000:2b:00.0/numa_node\n",
      "Your kernel may have been built without NUMA support.\n",
      "2024-06-01 19:46:32.242072: I tensorflow/core/common_runtime/gpu/gpu_device.cc:2019] Could not identify NUMA node of platform GPU id 0, defaulting to 0.  Your kernel may not have been built with NUMA support.\n",
      "2024-06-01 19:46:32.242205: I external/local_xla/xla/stream_executor/cuda/cuda_executor.cc:984] could not open file to read NUMA node: /sys/bus/pci/devices/0000:2b:00.0/numa_node\n",
      "Your kernel may have been built without NUMA support.\n",
      "2024-06-01 19:46:32.243357: I tensorflow/core/common_runtime/gpu/gpu_device.cc:1928] Created device /job:localhost/replica:0/task:0/device:GPU:0 with 1430 MB memory:  -> device: 0, name: NVIDIA GeForce MX330, pci bus id: 0000:2b:00.0, compute capability: 6.1\n"
     ]
    }
   ],
   "source": [
    "embedding_cosine = resnet18()"
   ]
  },
  {
   "cell_type": "code",
   "execution_count": 8,
   "metadata": {},
   "outputs": [],
   "source": [
    "siamese_cosine = SiameseModel(embedding_cosine, loss=\"cosine\", margin=1.0)"
   ]
  },
  {
   "cell_type": "markdown",
   "metadata": {},
   "source": [
    "### Model Compilation and Training"
   ]
  },
  {
   "cell_type": "code",
   "execution_count": null,
   "metadata": {},
   "outputs": [],
   "source": [
    "siamese_cosine.compile(optimizer=keras.optimizers.Adam(0.0001))"
   ]
  },
  {
   "cell_type": "code",
   "execution_count": null,
   "metadata": {},
   "outputs": [],
   "source": [
    "siamese_cosine_history = siamese_cosine.fit(\n",
    "    triplets_dataset,\n",
    "    validation_data=val_triplets_dataset,\n",
    "    epochs=5,\n",
    "    callbacks=[\n",
    "        keras.callbacks.ModelCheckpoint(\"model_siamese_cosine.weights.h5\", save_best_only=True, save_weights_only=True)\n",
    "    ]\n",
    ")"
   ]
  },
  {
   "cell_type": "markdown",
   "metadata": {},
   "source": [
    "# Method 2: Classification"
   ]
  },
  {
   "cell_type": "markdown",
   "metadata": {},
   "source": [
    "## Data"
   ]
  },
  {
   "cell_type": "code",
   "execution_count": null,
   "metadata": {},
   "outputs": [],
   "source": [
    "cls_train_dataset = keras.utils.image_dataset_from_directory(\n",
    "    \"data/classification_data/train_data\",\n",
    "    image_size=(64, 64),\n",
    "    shuffle=True,\n",
    "    seed=42,\n",
    "    batch_size=16\n",
    ")\n",
    "cls_val_dataset = keras.utils.image_dataset_from_directory(\n",
    "    \"data/classification_data/val_data\",\n",
    "    image_size=(64, 64),\n",
    "    shuffle=True,\n",
    "    seed=42,\n",
    "    batch_size=16\n",
    ")\n",
    "\n",
    "cls_train_dataset.map(lambda x, y: (keras.applications.resnet.preprocess_input(x), y))\n",
    "cls_val_dataset.map(lambda x, y: (keras.applications.resnet.preprocess_input(x), y))"
   ]
  },
  {
   "cell_type": "markdown",
   "metadata": {},
   "source": [
    "## Classification Network Definition"
   ]
  },
  {
   "cell_type": "code",
   "execution_count": 9,
   "metadata": {},
   "outputs": [],
   "source": [
    "def classification_head(embedding):\n",
    "    inputs = keras.Input(shape=(64, 64, 3))\n",
    "    x = embedding(inputs)\n",
    "    x = keras.layers.Dense(1000)(x)\n",
    "    x = keras.layers.BatchNormalization()(x)\n",
    "    x = keras.layers.Activation(\"relu\")(x)\n",
    "    outputs = keras.layers.Dense(4000, activation=\"softmax\")(x)\n",
    "\n",
    "    return keras.Model(inputs=inputs, outputs=outputs)"
   ]
  },
  {
   "cell_type": "markdown",
   "metadata": {},
   "source": [
    "## Model Initialization"
   ]
  },
  {
   "cell_type": "code",
   "execution_count": 10,
   "metadata": {},
   "outputs": [],
   "source": [
    "embedding_classification = resnet18()"
   ]
  },
  {
   "cell_type": "code",
   "execution_count": 11,
   "metadata": {},
   "outputs": [],
   "source": [
    "classification = classification_head(embedding_classification)"
   ]
  },
  {
   "cell_type": "markdown",
   "metadata": {},
   "source": [
    "## Model Compilation and Training"
   ]
  },
  {
   "cell_type": "code",
   "execution_count": 12,
   "metadata": {},
   "outputs": [],
   "source": [
    "classification.compile(\n",
    "    optimizer=keras.optimizers.Adam(0.0001),\n",
    "    loss=keras.losses.SparseCategoricalCrossentropy(),\n",
    "    metrics=['accuracy']\n",
    ")"
   ]
  },
  {
   "cell_type": "code",
   "execution_count": null,
   "metadata": {},
   "outputs": [],
   "source": [
    "classification.fit(\n",
    "    cls_train_dataset,\n",
    "    validation_data=cls_val_dataset,\n",
    "    epochs=10,\n",
    "    callbacks=[\n",
    "        keras.callbacks.ModelCheckpoint(\"model_classification.weights.h5\", save_best_only=True, save_weights_only=True)\n",
    "    ]\n",
    ")"
   ]
  },
  {
   "cell_type": "markdown",
   "metadata": {},
   "source": [
    "# Evaluate"
   ]
  },
  {
   "cell_type": "markdown",
   "metadata": {},
   "source": [
    "## Data"
   ]
  },
  {
   "cell_type": "code",
   "execution_count": 19,
   "metadata": {},
   "outputs": [],
   "source": [
    "class FaceVerificationSet(keras.utils.Sequence):\n",
    "\n",
    "    def __init__(self, base_data_dir, pairs_text_path, batch_size=4, image_size=(64, 64), seed=42):\n",
    "        self.base_data_dir = base_data_dir\n",
    "        self.pairs_text_path = pairs_text_path\n",
    "        self.batch_size = batch_size\n",
    "        self.image_size = image_size\n",
    "\n",
    "        self.batches = []\n",
    "\n",
    "        with open(self.pairs_text_path, encoding=\"utf-8\") as file:\n",
    "            self.data = [\n",
    "                {\n",
    "                    \"x1\": os.path.join(base_data_dir, line.split(\" \")[0]),\n",
    "                    \"x2\": os.path.join(base_data_dir, line.split(\" \")[1]),\n",
    "                    \"y\": line.split(\" \")[2]\n",
    "                }\n",
    "                for line in file.readlines()\n",
    "            ]\n",
    "\n",
    "        for i in range(0, len(self.data), self.batch_size):\n",
    "            self.batches.append( self.data[i:i + self.batch_size] )\n",
    "\n",
    "    def get_y(self):\n",
    "        # for verification dataset, 1 means the same person, 0 means different persons\n",
    "        # for roc auc score, we need to return 0 for the same person, 1 for different persons\n",
    "        return [1 - int(data[\"y\"]) for data in self.data]\n",
    "\n",
    "    def __preprocess_image(self, image_path):\n",
    "        image = tf.io.read_file(image_path)\n",
    "        image = tf.image.decode_jpeg(image, channels=3)\n",
    "        image = tf.image.resize(image, self.image_size)\n",
    "        image = keras.applications.resnet.preprocess_input(image)\n",
    "        return image\n",
    "\n",
    "    def __len__(self):\n",
    "        return len(self.batches)\n",
    "\n",
    "    def __getitem__(self, idx):\n",
    "        batch = self.batches[idx]\n",
    "        return [(\n",
    "            tf.stack([self.__preprocess_image(data[\"x1\"]) for data in batch]),\n",
    "            tf.stack([self.__preprocess_image(data[\"x2\"]) for data in batch])\n",
    "        )]"
   ]
  },
  {
   "cell_type": "code",
   "execution_count": 20,
   "metadata": {},
   "outputs": [],
   "source": [
    "data_verification = FaceVerificationSet('data', 'data/verification_pairs_val.txt')"
   ]
  },
  {
   "cell_type": "markdown",
   "metadata": {},
   "source": [
    "## Models"
   ]
  },
  {
   "cell_type": "markdown",
   "metadata": {},
   "source": [
    "### Distance Head Definition"
   ]
  },
  {
   "cell_type": "code",
   "execution_count": 21,
   "metadata": {},
   "outputs": [],
   "source": [
    "def distance_head(embedding, loss=\"euclidean\"):\n",
    "    assert loss == \"euclidean\" or loss == \"cosine\", \"loss must be either 'euclidean' or 'cosine'\"\n",
    "\n",
    "    input_x1 = keras.Input(name=\"input_x1\", shape=(64, 64, 3))\n",
    "    input_x2 = keras.Input(name=\"input_x2\", shape=(64, 64, 3))\n",
    "\n",
    "    x1_embedding = embedding(input_x1)\n",
    "    x2_embedding = embedding(input_x2)\n",
    "\n",
    "    if loss == \"euclidean\":\n",
    "        distance = keras.ops.sum(keras.ops.square(x1_embedding - x2_embedding), axis=-1)\n",
    "    else:\n",
    "        distance = 1 - keras.ops.sum(keras.ops.normalize(x1_embedding, axis=-1) * keras.ops.normalize(x2_embedding, axis=-1), axis=-1)\n",
    "\n",
    "    return keras.Model(inputs=[input_x1, input_x2], outputs=distance)"
   ]
  },
  {
   "cell_type": "markdown",
   "metadata": {},
   "source": [
    "### Reload Models"
   ]
  },
  {
   "cell_type": "code",
   "execution_count": 12,
   "metadata": {},
   "outputs": [],
   "source": [
    "embedding_euclidean = resnet18()\n",
    "siamese_euclidean = SiameseModel(embedding_euclidean).load_weights(\"model_siamese_euclidean.weights.h5\")"
   ]
  },
  {
   "cell_type": "code",
   "execution_count": 13,
   "metadata": {},
   "outputs": [],
   "source": [
    "embedding_euclidean.save(\"embedding_euclidean.keras\")"
   ]
  },
  {
   "cell_type": "code",
   "execution_count": 14,
   "metadata": {},
   "outputs": [],
   "source": [
    "embedding_cosine = resnet18()\n",
    "siamese_cosine = SiameseModel(embedding_cosine, loss=\"cosine\", margin=1.0).load_weights(\"model_siamese_cosine_3.weights.h5\")"
   ]
  },
  {
   "cell_type": "code",
   "execution_count": 15,
   "metadata": {},
   "outputs": [],
   "source": [
    "embedding_cosine.save(\"embedding_cosine.keras\")"
   ]
  },
  {
   "cell_type": "code",
   "execution_count": 16,
   "metadata": {},
   "outputs": [],
   "source": [
    "embedding_classification = resnet18()\n",
    "classification = classification_head(embedding_classification).load_weights(\"model_classification.weights.h5\")"
   ]
  },
  {
   "cell_type": "code",
   "execution_count": 17,
   "metadata": {},
   "outputs": [],
   "source": [
    "embedding_classification.save(\"embedding_classification.keras\")"
   ]
  },
  {
   "cell_type": "markdown",
   "metadata": {},
   "source": [
    "### Add distance head for validation"
   ]
  },
  {
   "cell_type": "code",
   "execution_count": 22,
   "metadata": {},
   "outputs": [],
   "source": [
    "siamese_euclidean_distance = distance_head(embedding_euclidean)\n",
    "siamese_cosine_distance    = distance_head(embedding_cosine, loss=\"cosine\")\n",
    "classification_distance    = distance_head(embedding_classification)"
   ]
  },
  {
   "cell_type": "markdown",
   "metadata": {},
   "source": [
    "## Evaluation"
   ]
  },
  {
   "cell_type": "markdown",
   "metadata": {},
   "source": [
    "### Perform predictions on verification data"
   ]
  },
  {
   "cell_type": "code",
   "execution_count": 24,
   "metadata": {},
   "outputs": [
    {
     "name": "stderr",
     "output_type": "stream",
     "text": [
      "/home/khang/miniconda3/envs/learnml/lib/python3.11/site-packages/keras/src/trainers/data_adapters/py_dataset_adapter.py:120: UserWarning: Your `PyDataset` class should call `super().__init__(**kwargs)` in its constructor. `**kwargs` can include `workers`, `use_multiprocessing`, `max_queue_size`. Do not pass these arguments to `fit()`, as they will be ignored.\n",
      "  self._warn_if_super_not_called()\n",
      "WARNING: All log messages before absl::InitializeLog() is called are written to STDERR\n",
      "I0000 00:00:1717236392.328442   37606 service.cc:145] XLA service 0x7f26d0002620 initialized for platform CUDA (this does not guarantee that XLA will be used). Devices:\n",
      "I0000 00:00:1717236392.329462   37606 service.cc:153]   StreamExecutor device (0): NVIDIA GeForce MX330, Compute Capability 6.1\n",
      "2024-06-01 20:06:32.464195: I tensorflow/compiler/mlir/tensorflow/utils/dump_mlir_util.cc:268] disabling MLIR crash reproducer, set env var `MLIR_CRASH_REPRODUCER_DIRECTORY` to enable.\n",
      "2024-06-01 20:06:33.109010: I external/local_xla/xla/stream_executor/cuda/cuda_dnn.cc:465] Loaded cuDNN version 8907\n"
     ]
    },
    {
     "name": "stdout",
     "output_type": "stream",
     "text": [
      "\u001b[1m   4/2202\u001b[0m \u001b[37m━━━━━━━━━━━━━━━━━━━━\u001b[0m \u001b[1m1:33\u001b[0m 43ms/step"
     ]
    },
    {
     "name": "stderr",
     "output_type": "stream",
     "text": [
      "I0000 00:00:1717236397.118678   37606 device_compiler.h:188] Compiled cluster using XLA!  This line is logged at most once for the lifetime of the process.\n"
     ]
    },
    {
     "name": "stdout",
     "output_type": "stream",
     "text": [
      "\u001b[1m2202/2202\u001b[0m \u001b[32m━━━━━━━━━━━━━━━━━━━━\u001b[0m\u001b[37m\u001b[0m \u001b[1m144s\u001b[0m 63ms/step\n",
      "\u001b[1m2202/2202\u001b[0m \u001b[32m━━━━━━━━━━━━━━━━━━━━\u001b[0m\u001b[37m\u001b[0m \u001b[1m151s\u001b[0m 68ms/step\n",
      "\u001b[1m2202/2202\u001b[0m \u001b[32m━━━━━━━━━━━━━━━━━━━━\u001b[0m\u001b[37m\u001b[0m \u001b[1m184s\u001b[0m 82ms/step\n"
     ]
    }
   ],
   "source": [
    "siamese_euclidean_preds = siamese_euclidean_distance.predict(data_verification)\n",
    "siamese_cosine_preds    =    siamese_cosine_distance.predict(data_verification)\n",
    "classification_preds    =    classification_distance.predict(data_verification)"
   ]
  },
  {
   "cell_type": "markdown",
   "metadata": {},
   "source": [
    "### Calculate metrics"
   ]
  },
  {
   "cell_type": "code",
   "execution_count": 23,
   "metadata": {},
   "outputs": [],
   "source": [
    "from sklearn.metrics import roc_curve, roc_auc_score"
   ]
  },
  {
   "cell_type": "markdown",
   "metadata": {},
   "source": [
    "ROC Curve (Receiver Operating Characteristic)"
   ]
  },
  {
   "cell_type": "code",
   "execution_count": 25,
   "metadata": {},
   "outputs": [],
   "source": [
    "siamese_euclidean_fpr, siamese_euclidean_tpr, siamese_euclidean_thresholds = roc_curve(data_verification.get_y(), siamese_euclidean_preds)\n",
    "siamese_cosine_fpr,    siamese_cosine_tpr,    siamese_cosine_thresholds    = roc_curve(data_verification.get_y(), siamese_cosine_preds)\n",
    "classification_fpr,    classification_tpr,    classification_thresholds    = roc_curve(data_verification.get_y(), classification_preds)"
   ]
  },
  {
   "cell_type": "markdown",
   "metadata": {},
   "source": [
    "AUC Score (Area Under the Curve)"
   ]
  },
  {
   "cell_type": "code",
   "execution_count": 26,
   "metadata": {},
   "outputs": [],
   "source": [
    "siamese_euclidean_auc = roc_auc_score(data_verification.get_y(), siamese_euclidean_preds)\n",
    "siamese_cosine_auc    = roc_auc_score(data_verification.get_y(), siamese_cosine_preds)\n",
    "classification_auc    = roc_auc_score(data_verification.get_y(), classification_preds)"
   ]
  },
  {
   "cell_type": "markdown",
   "metadata": {},
   "source": [
    "### Plot ROC curves"
   ]
  },
  {
   "cell_type": "code",
   "execution_count": 27,
   "metadata": {},
   "outputs": [
    {
     "data": {
      "image/png": "[encoded data removed]",
      "text/plain": [
       "<Figure size 640x480 with 1 Axes>"
      ]
     },
     "metadata": {},
     "output_type": "display_data"
    }
   ],
   "source": [
    "plt.plot(siamese_euclidean_fpr, siamese_euclidean_tpr, label=f\"Siamese with Euclidean Distance Loss (AUC: {siamese_euclidean_auc:.2f})\")\n",
    "plt.plot(siamese_cosine_fpr,    siamese_cosine_tpr,    label=f\"Siamese with Cosine Distance Loss (AUC: {siamese_cosine_auc:.2f})\")\n",
    "plt.plot(classification_fpr,    classification_tpr,    label=f\"Classification (AUC: {classification_auc:.2f})\")\n",
    "plt.plot([0, 1], [0, 1], linestyle=\"--\")\n",
    "plt.xlabel(\"False Positive Rate\")\n",
    "plt.ylabel(\"True Positive Rate\")\n",
    "plt.legend()\n",
    "plt.show()"
   ]
  },
  {
   "cell_type": "markdown",
   "metadata": {},
   "source": [
    "### Find optimal thresholds"
   ]
  },
  {
   "cell_type": "code",
   "execution_count": 28,
   "metadata": {},
   "outputs": [],
   "source": [
    "import numpy as np"
   ]
  },
  {
   "cell_type": "code",
   "execution_count": 29,
   "metadata": {},
   "outputs": [
    {
     "name": "stdout",
     "output_type": "stream",
     "text": [
      "Siamese with Euclidean Distance Loss best threshold: 1.4633811712265015\n",
      "Siamese with Euclidean Distance Loss best fpr: 0.18261877172653534\n",
      "Siamese with Euclidean Distance Loss best tpr: 0.6296213808463251\n"
     ]
    }
   ],
   "source": [
    "siamese_euclidean_best_threshold_idx = np.argmax(siamese_euclidean_tpr - siamese_euclidean_fpr)\n",
    "print(f\"Siamese with Euclidean Distance Loss best threshold: {siamese_euclidean_thresholds[siamese_euclidean_best_threshold_idx]}\")\n",
    "print(f\"Siamese with Euclidean Distance Loss best fpr: {siamese_euclidean_fpr[siamese_euclidean_best_threshold_idx]}\")\n",
    "print(f\"Siamese with Euclidean Distance Loss best tpr: {siamese_euclidean_tpr[siamese_euclidean_best_threshold_idx]}\")"
   ]
  },
  {
   "cell_type": "code",
   "execution_count": 30,
   "metadata": {},
   "outputs": [
    {
     "name": "stdout",
     "output_type": "stream",
     "text": [
      "Siamese with Cosine Distance Loss best threshold: 0.9580627679824829\n",
      "Siamese with Cosine Distance Loss best fpr: 0.11170336037079953\n",
      "Siamese with Cosine Distance Loss best tpr: 0.5859688195991092\n"
     ]
    }
   ],
   "source": [
    "siamese_cosine_best_threshold_idx = np.argmax(siamese_cosine_tpr - siamese_cosine_fpr)\n",
    "print(f\"Siamese with Cosine Distance Loss best threshold: {siamese_cosine_thresholds[siamese_cosine_best_threshold_idx]}\")\n",
    "print(f\"Siamese with Cosine Distance Loss best fpr: {siamese_cosine_fpr[siamese_cosine_best_threshold_idx]}\")\n",
    "print(f\"Siamese with Cosine Distance Loss best tpr: {siamese_cosine_tpr[siamese_cosine_best_threshold_idx]}\")"
   ]
  },
  {
   "cell_type": "code",
   "execution_count": 31,
   "metadata": {},
   "outputs": [
    {
     "name": "stdout",
     "output_type": "stream",
     "text": [
      "Classification best threshold: 590.21875\n",
      "Classification best fpr: 0.4122827346465817\n",
      "Classification best tpr: 0.6405345211581291\n"
     ]
    }
   ],
   "source": [
    "classification_best_threshold_idx = np.argmax(classification_tpr - classification_fpr)\n",
    "print(f\"Classification best threshold: {classification_thresholds[classification_best_threshold_idx]}\")\n",
    "print(f\"Classification best fpr: {classification_fpr[classification_best_threshold_idx]}\")\n",
    "print(f\"Classification best tpr: {classification_tpr[classification_best_threshold_idx]}\")"
   ]
  }
 ],
 "metadata": {
  "kernelspec": {
   "display_name": "learnml",
   "language": "python",
   "name": "python3"
  },
  "language_info": {
   "codemirror_mode": {
    "name": "ipython",
    "version": 3
   },
   "file_extension": ".py",
   "mimetype": "text/x-python",
   "name": "python",
   "nbconvert_exporter": "python",
   "pygments_lexer": "ipython3",
   "version": "3.11.8"
  }
 },
 "nbformat": 4,
 "nbformat_minor": 2
}
